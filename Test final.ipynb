{
 "cells": [
  {
   "cell_type": "code",
   "execution_count": 1,
   "metadata": {},
   "outputs": [],
   "source": [
    "#Packages\n",
    "import seaborn as sns\n",
    "import pandas as pd\n",
    "import zipfile\n",
    "import numpy as np\n",
    "\n",
    "import matplotlib.pyplot as plt\n",
    "import requests\n",
    "import json\n",
    "\n",
    "import os\n",
    "from bs4 import BeautifulSoup\n",
    "from IPython.core.display import HTML, display"
   ]
  },
  {
   "cell_type": "code",
   "execution_count": null,
   "metadata": {},
   "outputs": [],
   "source": [
    "r = requests.get('https://ies-python-midterm.s3.eu-central-1.amazonaws.com/studentsSets/71045732.zip').json() #read json\n",
    "pd.json_normalize(r['_embedded']['estates']) #convert json data into dataframe"
   ]
  },
  {
   "cell_type": "code",
   "execution_count": null,
   "metadata": {},
   "outputs": [],
   "source": [
    "aaa = pd.read_csv('path')\n",
    "bbb = pd.read_csv('path')\n",
    "ccc = pd.read_csv('path')\n",
    "\n",
    "aaa=aaa.set_index('Date')\n",
    "bbb=bbb.set_index('Date')\n",
    "ccc=ccc.set_index('Date')"
   ]
  },
  {
   "cell_type": "code",
   "execution_count": null,
   "metadata": {},
   "outputs": [],
   "source": [
    "#1\n",
    "\n",
    "print(sum(aaa['Close']-aaa['Adj Close']))\n",
    "print(sum(bbb['Close']-bbb['Adj Close']))\n",
    "print(sum(ccc['Close']-ccc['Adj Close']))"
   ]
  },
  {
   "cell_type": "code",
   "execution_count": null,
   "metadata": {},
   "outputs": [],
   "source": [
    "#2\n",
    "print(aaa['Adj Close'].agg([np.min, np. max]))\n",
    "print(bbb['Adj Close'].agg([np.min, np. max]))\n",
    "print(ccc['Adj Close'].agg([np.min, np. max]))"
   ]
  },
  {
   "cell_type": "code",
   "execution_count": null,
   "metadata": {},
   "outputs": [],
   "source": [
    "#3 \n",
    "print(aaa['Adj Close'].apply(np.log).diff().apply([np.min, np.max, np.mean, np.median]))\n",
    "print(bbb['Adj Close'].apply(np.log).diff().apply([np.min, np.max, np.mean, np.median]))\n",
    "print(ccc['Adj Close'].apply(np.log).diff().apply([np.min, np.max, np.mean, np.median]))"
   ]
  },
  {
   "cell_type": "code",
   "execution_count": null,
   "metadata": {},
   "outputs": [],
   "source": [
    "#4\n",
    "print(np.log(aaa['Adj Close']/aaa['Adj Close'].shift(1)).dropna().idmax())\n",
    "print(np.log(bbb['Adj Close']/bbb['Adj Close'].shift(1)).dropna().idmin())"
   ]
  },
  {
   "cell_type": "code",
   "execution_count": null,
   "metadata": {},
   "outputs": [],
   "source": [
    "#5\n"
   ]
  },
  {
   "cell_type": "code",
   "execution_count": null,
   "metadata": {},
   "outputs": [],
   "source": [
    "#6"
   ]
  },
  {
   "cell_type": "code",
   "execution_count": null,
   "metadata": {},
   "outputs": [],
   "source": [
    "#7\n",
    "uk=np.log(aaa[+'Adj Close']/aaa['Adj Close'].shift(1)).plot()\n",
    "np.log(bbb['Adj Close']/bbb['Adj Close'].shift(1)).plot(uk=uk)\n",
    "np.log(ccc['Adj Close']/ccc['Adj Close'].shift(1)).plot(uk=uk)"
   ]
  },
  {
   "cell_type": "code",
   "execution_count": null,
   "metadata": {},
   "outputs": [],
   "source": [
    "#8\n",
    "uk=np.log(aaa['Adj Close']/aaa['Adj Close'].shift(1)).hist()\n",
    "np.log(bbb['Adj Close']/bbb['Adj Close'].shift(1)).hist(uk=uk)\n",
    "np.log(ccc['Adj Close']/ccc['Adj Close'].shift(1)).hist(uk=uk)\n"
   ]
  }
 ],
 "metadata": {
  "kernelspec": {
   "display_name": "base",
   "language": "python",
   "name": "python3"
  },
  "language_info": {
   "codemirror_mode": {
    "name": "ipython",
    "version": 3
   },
   "file_extension": ".py",
   "mimetype": "text/x-python",
   "name": "python",
   "nbconvert_exporter": "python",
   "pygments_lexer": "ipython3",
   "version": "3.9.13"
  },
  "orig_nbformat": 4
 },
 "nbformat": 4,
 "nbformat_minor": 2
}
